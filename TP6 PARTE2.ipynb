{
 "cells": [
  {
   "cell_type": "code",
   "execution_count": null,
   "metadata": {},
   "outputs": [],
   "source": [
    "import matplotlib.pyplot as plt\n",
    "\n",
    "import polinomio as pol\n",
    "\n",
    "p3=[(3,2),(1,2),(-4,6),(4,2),(7,15),(7,0),(9,9)]  \n",
    "\n",
    "\n",
    "\n",
    "x=[n for n in range(-100,100)]\n",
    "y=[]\n",
    "for n in x:\n",
    "    y.append(pol.calcPolinomio(p3,n))\n",
    "    \n",
    "plt.plot(x,y)\n",
    "eixoXx=[x[0]-1,x[-1]+1]\n",
    "eixoXy=[0,0]\n",
    "plt.plot(eixoXx, eixoXy, color=\"red\", linewidth=1)\n",
    "eixoYx=[0,0]\n",
    "eixoYy=[-200,200]\n",
    "plt.plot(eixoYx, eixoYy, color=\"red\", linewidth=1)\n",
    "\n",
    "plt.plot(x,y, linewidth=2,\n",
    "         marker=\"o\", markerfacecolor=\"red\", markersize=\"8\")"
   ]
  }
 ],
 "metadata": {
  "kernelspec": {
   "display_name": "Python 3",
   "language": "python",
   "name": "python3"
  },
  "language_info": {
   "codemirror_mode": {
    "name": "ipython",
    "version": 3
   },
   "file_extension": ".py",
   "mimetype": "text/x-python",
   "name": "python",
   "nbconvert_exporter": "python",
   "pygments_lexer": "ipython3",
   "version": "3.8.3"
  }
 },
 "nbformat": 4,
 "nbformat_minor": 4
}
