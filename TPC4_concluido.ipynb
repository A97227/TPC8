{
 "cells": [
  {
   "cell_type": "code",
   "execution_count": null,
   "metadata": {},
   "outputs": [
    {
     "name": "stdout",
     "output_type": "stream",
     "text": [
      "(1) Se pretencer somar fraçoes; \n",
      "(2) Se pretencer subtrair fraçoes;\n",
      "(3)Se pretencer dividir fraçoes;\n",
      "(4)Se pretencer multiplicar fraçoes;\n",
      "(0) Se pretender sair \n"
     ]
    },
    {
     "name": "stdin",
     "output_type": "stream",
     "text": [
      "introduza uma opçao: 2\n"
     ]
    },
    {
     "name": "stdout",
     "output_type": "stream",
     "text": [
      "2/-3\n",
      "None\n",
      "(1) Se pretencer somar fraçoes; \n",
      "(2) Se pretencer subtrair fraçoes;\n",
      "(3)Se pretencer dividir fraçoes;\n",
      "(4)Se pretencer multiplicar fraçoes;\n",
      "(0) Se pretender sair \n"
     ]
    },
    {
     "name": "stdin",
     "output_type": "stream",
     "text": [
      "introduza uma opçao: 1\n"
     ]
    },
    {
     "name": "stdout",
     "output_type": "stream",
     "text": [
      "11/12\n",
      "None\n",
      "(1) Se pretencer somar fraçoes; \n",
      "(2) Se pretencer subtrair fraçoes;\n",
      "(3)Se pretencer dividir fraçoes;\n",
      "(4)Se pretencer multiplicar fraçoes;\n",
      "(0) Se pretender sair \n"
     ]
    },
    {
     "name": "stdin",
     "output_type": "stream",
     "text": [
      "introduza uma opçao: 6\n"
     ]
    },
    {
     "name": "stdout",
     "output_type": "stream",
     "text": [
      "opçao invalida!\n",
      "(1) Se pretencer somar fraçoes; \n",
      "(2) Se pretencer subtrair fraçoes;\n",
      "(3)Se pretencer dividir fraçoes;\n",
      "(4)Se pretencer multiplicar fraçoes;\n",
      "(0) Se pretender sair \n"
     ]
    }
   ],
   "source": [
    "def criarfraçao(numerador, denominador):\n",
    "    return (numerador, denominador)\n",
    "def verfraçao(f):\n",
    "    n,d=f\n",
    "    print(str(n) + \"/\" + str(d))\n",
    "    \n",
    "def mdc(a,b):\n",
    "    res=1\n",
    "    if a>b:\n",
    "        a,b=b,a\n",
    "    for i in range(2, b+1):\n",
    "        if (a%i==0) and (b%1==0):\n",
    "             res=i\n",
    "    return res\n",
    "   \n",
    "def mdc2(a,b):\n",
    "    if a<b:\n",
    "        return mdc2(b,a)\n",
    "    elif a%b==0:\n",
    "        return b\n",
    "    else:\n",
    "        return mdc(a, a%b)\n",
    "    \n",
    "def simplificafraçao(a, b):\n",
    "    \n",
    "    m = mdc2 (a,b) \n",
    "    return (int(a/m),int(b/m))\n",
    "\n",
    "\n",
    "listafrac2=[(1,4),(1,7),(5,3), (8,12)]\n",
    "\n",
    "def somarfrac(f1,f2):\n",
    "    n1, d1=f1\n",
    "    n2, d2=f2\n",
    "    return simplificafraçao(int(n1*d2 + n2*d1),int(d1*d2))\n",
    "\n",
    "def div2(f1,f2):\n",
    "    n1, d1=f1\n",
    "    n2, d2=f2\n",
    "    return simplificafraçao(int(n1*d2),int(d1*n2))\n",
    "\n",
    "def multi2(f1,f2):\n",
    "    n1, d1=f1\n",
    "    n2, d2=f2\n",
    "    return simplificafraçao(int(n1*n2),int(d1*d2))\n",
    "\n",
    "def sub2(f1,f2):\n",
    "    n1, d1=f1\n",
    "    n2, d2=f2\n",
    "    return simplificafraçao(int(n1*d2 - n2*d1),int(d1*d2))\n",
    "\n",
    "listafrac2=[(1,4), (1,7), (5,3), (8,12)]\n",
    "def subtra(listafrac2):\n",
    "    sub=sub2(listafrac2[0],listafrac2[1])\n",
    "    \n",
    "    for i in range(2, len(listafrac2)):\n",
    "        \n",
    "        sub=sub2(sub, listafrac2[i])\n",
    "    print(verfraçao(sub))\n",
    "    \n",
    "    \n",
    "def multiplica(listafrac2):\n",
    "    multi=multi2(listafrac2[0],listafrac2[1])\n",
    "\n",
    "    for i in range(2, len(listafrac2)):\n",
    "        \n",
    "        multi=multi2(multi, listafrac2[i])\n",
    "    print(verfraçao(multi))\n",
    "    \n",
    "    \n",
    "    \n",
    "    \n",
    "def soma2(listafrac2):\n",
    "    soma=somarfrac(listafrac2[0],listafrac2[1])\n",
    "    \n",
    "    for i in range(2, len(listafrac2)):\n",
    "        \n",
    "        soma=somarfrac(soma, listafrac2[i])\n",
    "    print(verfraçao(soma))\n",
    "    \n",
    "    \n",
    "def divisao(listafrac2):\n",
    "    div=div2(listafrac2[0],listafrac2[1])\n",
    "    \n",
    "    for i in range(2, len(listafrac2)):\n",
    "        \n",
    "        div=div2(div, listafrac2[i])\n",
    "    print(verfraçao(div))\n",
    "    \n",
    "    \n",
    "def menu():\n",
    "    print (\"\"\"(1) Se pretencer somar fraçoes; \n",
    "(2) Se pretencer subtrair fraçoes;\n",
    "(3)Se pretencer dividir fraçoes;\n",
    "(4)Se pretencer multiplicar fraçoes;\n",
    "(0) Se pretender sair \"\"\" )\n",
    "\n",
    "\n",
    "\n",
    "op=\"-1\"\n",
    "listafrac2=[(1,4),(1,7),criarfraçao(125,1000), (8,12)]\n",
    "l=[]\n",
    "while op!=\"0\":\n",
    "    menu()\n",
    "    op=input(\"introduza uma opçao:\")\n",
    "    if op==\"1\":\n",
    "        \n",
    "        l=soma2(listafrac2)\n",
    "        \n",
    "    elif op==\"2\":\n",
    "        l=subtra(listafrac2)\n",
    "        \n",
    "    elif op==\"3\":\n",
    "        l=divisao(listafrac2)\n",
    "        \n",
    "    elif op==\"4\":\n",
    "        l=multiplica(listafrac2)\n",
    "        \n",
    "    else:\n",
    "        print(\"opçao invalida!\")\n",
    "        \n",
    "        "
   ]
  },
  {
   "cell_type": "code",
   "execution_count": null,
   "metadata": {},
   "outputs": [],
   "source": []
  }
 ],
 "metadata": {
  "kernelspec": {
   "display_name": "Python 3",
   "language": "python",
   "name": "python3"
  },
  "language_info": {
   "codemirror_mode": {
    "name": "ipython",
    "version": 3
   },
   "file_extension": ".py",
   "mimetype": "text/x-python",
   "name": "python",
   "nbconvert_exporter": "python",
   "pygments_lexer": "ipython3",
   "version": "3.8.3"
  }
 },
 "nbformat": 4,
 "nbformat_minor": 4
}
