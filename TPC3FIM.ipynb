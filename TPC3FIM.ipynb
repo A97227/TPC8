{
 "cells": [
  {
   "cell_type": "code",
   "execution_count": 1,
   "metadata": {},
   "outputs": [],
   "source": [
    "L=[17, 2, 6, 4, 14, 15]"
   ]
  },
  {
   "cell_type": "code",
   "execution_count": 2,
   "metadata": {},
   "outputs": [],
   "source": [
    "def bubblesort(L):\n",
    "    valor=True \n",
    "    for j in range (len(L)-1):\n",
    "        if L[j]>L[j+1]:\n",
    "            for i in range(len(L)-1):\n",
    "     \n",
    "               if L[i]>L[i+1]:\n",
    "                   valor=True\n",
    "                   temp=L[i]\n",
    "                   L[i]=L[i+1]\n",
    "                   L[i+1]=temp\n",
    "               \n",
    "               else:\n",
    "                    print( \"False\" )\n",
    "        else:\n",
    "            break\n",
    "                  \n",
    "    return L"
   ]
  },
  {
   "cell_type": "code",
   "execution_count": 3,
   "metadata": {},
   "outputs": [
    {
     "name": "stdout",
     "output_type": "stream",
     "text": [
      "False\n",
      "False\n",
      "False\n",
      "False\n",
      "[2, 4, 6, 14, 15, 17]\n"
     ]
    }
   ],
   "source": [
    "print(bubblesort(L))"
   ]
  },
  {
   "cell_type": "code",
   "execution_count": null,
   "metadata": {},
   "outputs": [],
   "source": []
  }
 ],
 "metadata": {
  "kernelspec": {
   "display_name": "Python 3",
   "language": "python",
   "name": "python3"
  },
  "language_info": {
   "codemirror_mode": {
    "name": "ipython",
    "version": 3
   },
   "file_extension": ".py",
   "mimetype": "text/x-python",
   "name": "python",
   "nbconvert_exporter": "python",
   "pygments_lexer": "ipython3",
   "version": "3.8.3"
  }
 },
 "nbformat": 4,
 "nbformat_minor": 4
}
