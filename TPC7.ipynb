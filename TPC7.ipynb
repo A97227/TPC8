{
 "cells": [
  {
   "cell_type": "markdown",
   "metadata": {},
   "source": [
    "# Ficha técnica\n",
    "\n",
    "__identificador__: aulaP7;\n",
    "\n",
    "__título__: Processamento de datasets;\n",
    "\n",
    "__data início__: 2021-11-22;\n",
    "\n",
    "__autor__: José Carlos Ramalho, D1513;\n",
    "\n",
    "__resumo__: Nesta aula, irás fazer exercícios sobre leitura de datasets, seu processamento e produção de dados estatísticos."
   ]
  },
  {
   "cell_type": "markdown",
   "metadata": {},
   "source": [
    "## Dataset\n",
    "\n",
    "Para a resolução dos exercícios desta ficha, descarrega o dataset de alunos do site da UC.\n",
    "\n",
    "### Estrutura do dataset\n",
    "O dataset tem a seguinte estrutura:\n",
    "\n",
    "```\n",
    "id_aluno,nome,curso,tpc1,tpc2,tpc3,tpc4\n",
    "\"a1\",\"Aysha Melanie Gilberto\",\"LEI\",12,8,19,8\n",
    "\"a2\",\"Igor André Cantanhede\",\"ENGFIS\",12,16,18,20\n",
    "\"a3\",\"Laurénio Narciso\",\"ENGFIS\",8,14,15,14\n",
    "\"a4\",\"Jasnoor Casegas\",\"LCC\",14,20,17,11\n",
    "\"a5\",\"Tawseef Rebouças\",\"ENGBIOM\",13,14,13,17\n",
    "\"a6\",\"Eryk Clementino\",\"LEI\",10,19,11,14\n",
    "...\n",
    "```"
   ]
  },
  {
   "cell_type": "markdown",
   "metadata": {},
   "source": [
    "## Leitura (exercício 1)\n",
    "\n",
    "Depois de pensares num modelo adequado especifica a função que lê o ficheiro e povoa esse modelo."
   ]
  },
  {
   "cell_type": "code",
   "execution_count": 50,
   "metadata": {},
   "outputs": [
    {
     "name": "stdout",
     "output_type": "stream",
     "text": [
      "<built-in function getcwd>\n"
     ]
    }
   ],
   "source": [
    "# Descreve em texto o teu modelo\n",
    "import os\n",
    "print(os.getcwd)\n",
    "# Leitura/carregamento da informação do ficheiro\n",
    "def lerDataset(fnome):\n",
    "    f=open(fnome)\n",
    "    f.readline()\n",
    "    bd=[]\n",
    "    for linha in f:\n",
    "        novalinha=linha.replace(\"\\n\", \"\")\n",
    "        campo=novalinha.split(\",\")\n",
    "        aluno={}\n",
    "        aluno[\"id\"]=campo[0]\n",
    "        aluno[\"nome\"]=campo[1]\n",
    "        aluno[\"curso\"]=campo[2]\n",
    "        aluno[\"tpc\"]=campos[3:]\n",
    "        listaTPC=[]\n",
    "        for tpc in campo[3:]:\n",
    "            listaTPC.append(int(tpc))\n",
    "            \n",
    "        aluno[\"tpc\"]=listaTPC\n",
    "        bd.append(aluno)\n",
    "        \n",
    "    return bd\n",
    "\n",
    "        \n",
    "        "
   ]
  },
  {
   "cell_type": "markdown",
   "metadata": {},
   "source": [
    "## Listagem (exercício 2)\n",
    "\n",
    "Especifica uma função que faça a listagem no monitor dos vários registos de informação.\n",
    "Tenta dar a forma duma tabela em que as colunas têm todas a mesma dimensão."
   ]
  },
  {
   "cell_type": "code",
   "execution_count": null,
   "metadata": {},
   "outputs": [],
   "source": []
  },
  {
   "cell_type": "code",
   "execution_count": 51,
   "metadata": {},
   "outputs": [],
   "source": [
    "# Listagem da informação\n",
    "def listarDataset(bd):\n",
    "    \n",
    "    print(\"id         \\nome             \\curso           \\media\")\n",
    "    print(\"____________________________________________________\")\n",
    "          \n",
    "    for a in bd:\n",
    "        print(a[\"id\"] + \"|\" + a[\"nome\"] + \"|\" + a[\"curso\"] + \"|\" + str((sum(a[\"tpc\"]))/len(a[\"tpc\"])) )\n"
   ]
  },
  {
   "cell_type": "markdown",
   "metadata": {},
   "source": [
    "## Consulta de um registo (exercício 3)\n",
    "\n",
    "Especifica uma função que, dado o id de um aluno, coloca a sua informação no monitor. Para além disso, indica também a média dos TPC realizados."
   ]
  },
  {
   "cell_type": "code",
   "execution_count": 52,
   "metadata": {},
   "outputs": [],
   "source": [
    "# Consulta de um registo\n",
    "def consultarDataset(bd, id):\n",
    "    im={}\n",
    "    for i in bd:\n",
    "        im[i[\"id\"]]=sum(i[\"tpc\"])/len(i[\"tpc\"])\n",
    "        \n",
    "     \n",
    "    \n",
    "            \n",
    "        print(im)  \n",
    "\n",
    "        "
   ]
  },
  {
   "cell_type": "markdown",
   "metadata": {},
   "source": [
    "## Top 10 (exercício 4)\n",
    "\n",
    "Especifica um função que dá como resultado uma lista com os alunos com as 10 médias mais altas: id, nome, curso, média."
   ]
  },
  {
   "cell_type": "code",
   "execution_count": 54,
   "metadata": {},
   "outputs": [],
   "source": [
    "def top10(bd):\n",
    "    top2=[]\n",
    "    max=0\n",
    "    for ten in bd:\n",
    "        if sum(ten[\"tpc\"])/len(ten[\"tpc\"])>max:\n",
    "            max=sum(ten[\"tpc\"])/len(ten[\"tpc\"])\n",
    "            lista.apeend(max)\n",
    "            return lista\n",
    "        \n",
    "        else:\n",
    "            return max\n",
    "        \n",
    "    top=lista.sort()\n",
    "    for i in range(len(top)-10,len(top)):\n",
    "        top2.apeend(i)\n",
    "    print(top2)\n",
    "                   \n",
    "                    \n",
    "                \n",
    "             \n",
    "                    \n"
   ]
  },
  {
   "cell_type": "markdown",
   "metadata": {},
   "source": [
    "## Distribuição por curso (exercício 5)\n",
    "\n",
    "Especifica uma função que dá como resultado uma lista de pares indicando quantos alunos há em cada curso."
   ]
  },
  {
   "cell_type": "code",
   "execution_count": 31,
   "metadata": {},
   "outputs": [],
   "source": [
    "def distribPorCurso(bd):\n",
    "        distribuiçao={}\n",
    "        for a in bd:\n",
    "            if a[\"curso\"] in distribuiçao.key():\n",
    "                distribuiçao[a[\"curso\"]]=distribuiçao[a[\"curso\"]] + 1\n",
    "                \n",
    "            else:\n",
    "                distribuiçao[a[\"curso\"]]=1\n",
    "                \n",
    "        return distribuiçao\n",
    "    \n",
    "    \n",
    "        "
   ]
  },
  {
   "cell_type": "code",
   "execution_count": null,
   "metadata": {},
   "outputs": [],
   "source": []
  },
  {
   "cell_type": "markdown",
   "metadata": {},
   "source": [
    "## Distribuição por médias (exercício 6)\n",
    "\n",
    "Especifica uma função que dá como resultado uma lista de pares, média e número de alunos com essa média (considera o valor inteiro da média)."
   ]
  },
  {
   "cell_type": "code",
   "execution_count": 30,
   "metadata": {},
   "outputs": [],
   "source": [
    "def distribPorMedia(bd):\n",
    "        distribuiçao2={}\n",
    "        for v in bd:\n",
    "            if (sum(v[\"tpc\"]))/len(v[\"tpc\"])  in distribuiçao2.key():\n",
    "                distribuiçao2[sum(v[\"tpc\"])/len(v[\"tpc\"])]=distribuiçao2[sum(v[\"tpc\"])/len(v[\"tpc\"])] + 1\n",
    "                \n",
    "            else:\n",
    "                distribuiçao2[sum(v[\"tpc\"])/len(v[\"tpc\"])]=1\n",
    "                \n",
    "        return distribuiçao2"
   ]
  },
  {
   "cell_type": "markdown",
   "metadata": {},
   "source": [
    "# Gráficos\n",
    "\n",
    "## Gráfico da distribuição por curso (exercício 7)\n",
    "\n",
    "Especifica uma função que faz o plot dum gráfico com a distribuição de alunos por curso."
   ]
  },
  {
   "cell_type": "code",
   "execution_count": 4,
   "metadata": {},
   "outputs": [],
   "source": [
    "def plotDistribPorMedia(distribuiçao):\n",
    "    x=[]\n",
    "    for i in range(1, len(distribuiçao.key())+1):\n",
    "        x.append(i)\n",
    "    print(x)\n",
    "    y=[]\n",
    "    b=[]\n",
    "    for media in distribuiçao.key():\n",
    "        y.append(distribuiçao[media])\n",
    "        b.append(curso)\n",
    "    print(y)\n",
    "    print(b)\n",
    "    plt.bar(x,y,\n",
    "        width = 0.8, color = ['red', 'green'])\n",
    "    plt.xlabel(\"media\")\n",
    "# naming the y-axis\n",
    "    plt.ylabel(\"NUMERO DE ALUNO\")\n",
    "# plot title\n",
    "    plt.title('O meu stock de verdes')\n",
    " \n",
    "\n",
    "    plt.show()\n",
    "    "
   ]
  },
  {
   "cell_type": "markdown",
   "metadata": {},
   "source": [
    "## Gráfico da distribuição por média (exercício 8)\n",
    "\n",
    "Especifica uma função que faz o plot dum gráfico com a distribuição de alunos por média."
   ]
  },
  {
   "cell_type": "code",
   "execution_count": 9,
   "metadata": {},
   "outputs": [],
   "source": [
    "def plotDistribPorMedia(distribuiçao):\n",
    "    x=[]\n",
    "    for i in range(1, len(distribuiçao.key())+1):\n",
    "        x.append(i)\n",
    "    print(x)\n",
    "    y=[]\n",
    "    b=[]\n",
    "    for curso in distribuiçao.key():\n",
    "        y.append(distribuiçao[curso])\n",
    "        b.append(curso)\n",
    "    print(y)\n",
    "    print(b)\n",
    "    plt.bar(x,y,\n",
    "        width = 0.8, color = ['red', 'green'])\n",
    "    plt.xlabel(\"cursos\")\n",
    "# naming the y-axis\n",
    "    plt.ylabel(\"NUMERO DE ALUNO\")\n",
    "# plot title\n",
    "    plt.title('O meu stock de verdes')\n",
    " \n",
    "\n",
    "    plt.show()"
   ]
  },
  {
   "cell_type": "code",
   "execution_count": null,
   "metadata": {},
   "outputs": [],
   "source": []
  }
 ],
 "metadata": {
  "interpreter": {
   "hash": "aee8b7b246df8f9039afb4144a1f6fd8d2ca17a180786b69acc140d282b71a49"
  },
  "kernelspec": {
   "display_name": "Python 3",
   "language": "python",
   "name": "python3"
  },
  "language_info": {
   "codemirror_mode": {
    "name": "ipython",
    "version": 3
   },
   "file_extension": ".py",
   "mimetype": "text/x-python",
   "name": "python",
   "nbconvert_exporter": "python",
   "pygments_lexer": "ipython3",
   "version": "3.8.3"
  }
 },
 "nbformat": 4,
 "nbformat_minor": 4
}
