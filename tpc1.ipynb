{
 "cells": [
  {
   "cell_type": "code",
   "execution_count": 1,
   "metadata": {},
   "outputs": [],
   "source": [
    "def jogo2(a,b,c,d,e,y1,y2):\n",
    "    \n",
    "    \n",
    "    y1=input(\"numero da jogada:\")\n",
    "   \n",
    "    y2=input(\"introduza a jogada:\")\n",
    "    a==21\n",
    "    b==1\n",
    "    c==2\n",
    "    d==3\n",
    "    e==4\n",
    "    if (y1==b):\n",
    "        y2=\"4\"\n",
    "        return(y2)\n",
    "    if (y1==c):\n",
    "        \n",
    "        y2=\"3\"\n",
    "        return(y2)\n",
    "        \n",
    "    if (y1==d):       \n",
    "        y2=\"2\"\n",
    "        return(y2)\n",
    "        \n",
    "    if (y1==e):\n",
    "        y2=\"1\"\n",
    "        return(y2)\n",
    "\n",
    "def jogo1(a,b,c,d,e,y1,y2):\n",
    "    a==21\n",
    "\n",
    "    if (y1+y2!=5) and ((a-y2)>15):\n",
    "        a=a-y2\n",
    "        y1=(a-y2)-15\n",
    "\n",
    "        return (y1)\n",
    "    if  (y1+y2!=5) and ((a-y2)>10):\n",
    "        a=a-y2\n",
    "        y1=(a-y2)-10\n",
    "        return (y1)\n",
    "    if (y1+y2!=5) and ((a-y2)>5):\n",
    "        a=a-y2\n",
    "        y1=(a-y2)-5\n",
    "        return (y1)\n",
    "        \n",
    "        \n",
    "        \n",
    "    \n",
    "\n",
    "\n",
    "def jogo_21(x1,x2,jogo2): \n",
    "    \n",
    "    x1=float(input(\"jogador=1; computador =2:\"))\n",
    "    x2=  float(input(\"jogador=1;computador=2:\"))\n",
    "    \n",
    "    if (x1==1):\n",
    "        return jogo2\n",
    "    else:\n",
    "        return jogo1\n",
    "    "
   ]
  },
  {
   "cell_type": "code",
   "execution_count": 2,
   "metadata": {},
   "outputs": [
    {
     "data": {
      "text/plain": [
       "1"
      ]
     },
     "execution_count": 2,
     "metadata": {},
     "output_type": "execute_result"
    }
   ],
   "source": [
    "\n"
   ]
  },
  {
   "cell_type": "code",
   "execution_count": null,
   "metadata": {},
   "outputs": [],
   "source": []
  },
  {
   "cell_type": "code",
   "execution_count": null,
   "metadata": {},
   "outputs": [],
   "source": []
  }
 ],
 "metadata": {
  "kernelspec": {
   "display_name": "Python 3",
   "language": "python",
   "name": "python3"
  },
  "language_info": {
   "codemirror_mode": {
    "name": "ipython",
    "version": 3
   },
   "file_extension": ".py",
   "mimetype": "text/x-python",
   "name": "python",
   "nbconvert_exporter": "python",
   "pygments_lexer": "ipython3",
   "version": "3.8.3"
  }
 },
 "nbformat": 4,
 "nbformat_minor": 4
}
