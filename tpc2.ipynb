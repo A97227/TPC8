{
 "cells": [
  {
   "cell_type": "code",
   "execution_count": 9,
   "metadata": {},
   "outputs": [
    {
     "data": {
      "text/plain": [
       "'codigo binario----> \\nproblema é:\\n    de 0-100\\n    o jogador escolhe um numero e o pc tem q o descobrir em 7 hipoteses.-\\n    modo de resoluçao\\n    ir a meio e perguntar se e maior ou menor q 50 se for menos«r escolher 25\\n    e perguntar o mesmo \\n    se for menor escolher entre12 ou 13 se for maior escolher 32 ou 33 \\n    se for maior q 50 escolher 75 e pergintar o mesmo, se for menor 62 ou 63 se for aior 87 ou 88\\n    mas tem q ser por codigo binario \\n    o binario tem a ver co 2**x\\n    '"
      ]
     },
     "execution_count": 9,
     "metadata": {},
     "output_type": "execute_result"
    }
   ],
   "source": [
    "'''''''''codigo binario----> \n",
    "problema é:\n",
    "    de 0-100\n",
    "    o jogador escolhe um numero e o pc tem q o descobrir em 7 hipoteses.-\n",
    "    modo de resoluçao\n",
    "    ir a meio e perguntar se e maior ou menor q 50 se for menos«r escolher 25\n",
    "    e perguntar o mesmo \n",
    "    se for menor escolher entre12 ou 13 se for maior escolher 32 ou 33 \n",
    "    se for maior q 50 escolher 75 e pergintar o mesmo, se for menor 62 ou 63 se for aior 87 ou 88\n",
    "    mas tem q ser por codigo binario \n",
    "    o binario tem a ver co 2**x\n",
    "    '''''"
   ]
  },
  {
   "cell_type": "code",
   "execution_count": 9,
   "metadata": {},
   "outputs": [
    {
     "ename": "NameError",
     "evalue": "name 'a' is not defined",
     "output_type": "error",
     "traceback": [
      "\u001b[1;31m---------------------------------------------------------------------------\u001b[0m",
      "\u001b[1;31mNameError\u001b[0m                                 Traceback (most recent call last)",
      "\u001b[1;32m<ipython-input-9-2465af244e05>\u001b[0m in \u001b[0;36m<module>\u001b[1;34m\u001b[0m\n\u001b[0;32m      3\u001b[0m     \u001b[0mn\u001b[0m\u001b[1;33m==\u001b[0m\u001b[1;36m100\u001b[0m\u001b[1;33m\u001b[0m\u001b[1;33m\u001b[0m\u001b[0m\n\u001b[0;32m      4\u001b[0m     \u001b[0mlen\u001b[0m\u001b[1;33m(\u001b[0m\u001b[0ma\u001b[0m\u001b[1;33m)\u001b[0m\u001b[1;33m==\u001b[0m\u001b[0mn\u001b[0m\u001b[1;33m\u001b[0m\u001b[1;33m\u001b[0m\u001b[0m\n\u001b[1;32m----> 5\u001b[1;33m \u001b[0mprint\u001b[0m\u001b[1;33m(\u001b[0m\u001b[0mlen\u001b[0m\u001b[1;33m(\u001b[0m\u001b[0ma\u001b[0m\u001b[1;33m)\u001b[0m\u001b[1;33m)\u001b[0m\u001b[1;33m\u001b[0m\u001b[1;33m\u001b[0m\u001b[0m\n\u001b[0m",
      "\u001b[1;31mNameError\u001b[0m: name 'a' is not defined"
     ]
    }
   ],
   "source": [
    "\n",
    "\n"
   ]
  },
  {
   "cell_type": "code",
   "execution_count": 2,
   "metadata": {},
   "outputs": [],
   "source": [
    "def pesquisabinaria(lista,x):\n",
    "    i=0\n",
    "    a=len(lista)-1\n",
    "    b=0\n",
    "    while(i<=a):\n",
    "        b=(a+i)//2\n",
    "        if lista[b]<x:\n",
    "            i=b+1\n",
    "        elif lista[b]>x:\n",
    "            a=b-1\n",
    "        else:\n",
    "            return b\n",
    "    \n",
    "        \n",
    "            "
   ]
  },
  {
   "cell_type": "code",
   "execution_count": 10,
   "metadata": {},
   "outputs": [
    {
     "name": "stdout",
     "output_type": "stream",
     "text": [
      "4\n"
     ]
    }
   ],
   "source": [
    "lista=[0,1,2,3,4,5,6,7,8,9,10,11,12,13,14,15,16,17,18,19,20,21,22,23,24,25,26,27,28,29,30,31,32,33,34,35,36,37,38,39,40,41,42,43,44,45,46,47,48,49,50]\n",
    "print(pesquisabinaria(lista,4))"
   ]
  },
  {
   "cell_type": "code",
   "execution_count": 8,
   "metadata": {},
   "outputs": [
    {
     "name": "stdout",
     "output_type": "stream",
     "text": [
      "None\n"
     ]
    }
   ],
   "source": [
    "lista=[0,1,2,3,4,5,6,7,8,9,10,11,12,13,14,15,16,17,18,19,20,21,22,23,24,25,26,27,28,29,30,31,32,33,34,35,36,37,38,39,40,41,42,43,44,45,46,47,48,49,50]\n",
    "print(pesquisabinaria(lista,100))"
   ]
  },
  {
   "cell_type": "code",
   "execution_count": null,
   "metadata": {},
   "outputs": [],
   "source": []
  }
 ],
 "metadata": {
  "kernelspec": {
   "display_name": "Python 3",
   "language": "python",
   "name": "python3"
  },
  "language_info": {
   "codemirror_mode": {
    "name": "ipython",
    "version": 3
   },
   "file_extension": ".py",
   "mimetype": "text/x-python",
   "name": "python",
   "nbconvert_exporter": "python",
   "pygments_lexer": "ipython3",
   "version": "3.8.3"
  }
 },
 "nbformat": 4,
 "nbformat_minor": 4
}
